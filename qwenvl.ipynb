{
 "cells": [
  {
   "cell_type": "code",
   "execution_count": null,
   "id": "082c7f08",
   "metadata": {},
   "outputs": [],
   "source": [
    "# 通过uv安装依赖\n",
    "! uv sync"
   ]
  },
  {
   "cell_type": "markdown",
   "id": "0c34b805",
   "metadata": {},
   "source": [
    "# 下载Qwen/Qwen2.5-VL-3B-Instruct模型"
   ]
  },
  {
   "cell_type": "code",
   "execution_count": null,
   "id": "a28b3f8e",
   "metadata": {},
   "outputs": [
    {
     "name": "stdout",
     "output_type": "stream",
     "text": [
      "Downloading Model from https://www.modelscope.cn to directory: ./autodl-tmp/qwen/Qwen2.5-VL-3B-Instruct\n"
     ]
    },
    {
     "name": "stderr",
     "output_type": "stream",
     "text": [
      "2025-08-28 15:30:22,540 - modelscope - INFO - Got 2 files, start to download ...\n"
     ]
    },
    {
     "data": {
      "application/vnd.jupyter.widget-view+json": {
       "model_id": "84b91ff0366c42b99abdd2d9f92a977a",
       "version_major": 2,
       "version_minor": 0
      },
      "text/plain": [
       "Processing 2 items:   0%|          | 0.00/2.00 [00:00<?, ?it/s]"
      ]
     },
     "metadata": {},
     "output_type": "display_data"
    },
    {
     "data": {
      "application/vnd.jupyter.widget-view+json": {
       "model_id": "16046d05e5654056b6824be9fed1bd90",
       "version_major": 2,
       "version_minor": 0
      },
      "text/plain": [
       "Downloading [model-00001-of-00002.safetensors]:   0%|          | 0.00/3.71G [00:00<?, ?B/s]"
      ]
     },
     "metadata": {},
     "output_type": "display_data"
    },
    {
     "data": {
      "application/vnd.jupyter.widget-view+json": {
       "model_id": "62339bd6ed224c7daa3a6b7cbcfb8e98",
       "version_major": 2,
       "version_minor": 0
      },
      "text/plain": [
       "Downloading [model-00002-of-00002.safetensors]:   0%|          | 0.00/3.28G [00:00<?, ?B/s]"
      ]
     },
     "metadata": {},
     "output_type": "display_data"
    }
   ],
   "source": [
    "from modelscope import Qwen2_5_VLForConditionalGeneration, AutoTokenizer, AutoProcessor, snapshot_download, AutoModel, AutoTokenizer\n",
    "from qwen_vl_utils import process_vision_info\n",
    "model_dir = snapshot_download('qwen/Qwen2.5-VL-3B-Instruct', cache_dir='./autodl-tmp', revision='master')\n"
   ]
  },
  {
   "cell_type": "code",
   "execution_count": null,
   "id": "20dbbc98",
   "metadata": {},
   "outputs": [],
   "source": []
  }
 ],
 "metadata": {
  "kernelspec": {
   "display_name": "qwenvl",
   "language": "python",
   "name": "python3"
  },
  "language_info": {
   "codemirror_mode": {
    "name": "ipython",
    "version": 3
   },
   "file_extension": ".py",
   "mimetype": "text/x-python",
   "name": "python",
   "nbconvert_exporter": "python",
   "pygments_lexer": "ipython3",
   "version": "3.13.5"
  }
 },
 "nbformat": 4,
 "nbformat_minor": 5
}
